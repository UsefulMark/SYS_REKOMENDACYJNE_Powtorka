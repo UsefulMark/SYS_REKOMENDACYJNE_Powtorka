{
 "cells": [
  {
   "cell_type": "markdown",
   "metadata": {},
   "source": [
    "Wczytanie danych"
   ]
  },
  {
   "cell_type": "code",
   "execution_count": 1,
   "metadata": {},
   "outputs": [],
   "source": [
    "from surprise import Dataset\n",
    "from surprise import Reader\n",
    "import pandas as pd"
   ]
  },
  {
   "cell_type": "code",
   "execution_count": 4,
   "metadata": {},
   "outputs": [],
   "source": [
    "import numpy as np\n",
    "from surprise import Dataset\n",
    "\n",
    "# Wczytanie danych MovieLens 100k\n",
    "data = Dataset.load_builtin('ml-100k')\n",
    "\n",
    "# Konwersja danych na macierz user-item\n",
    "raw_data = data.build_full_trainset()\n",
    "n_users = raw_data.n_users\n",
    "n_items = raw_data.n_items\n",
    "\n",
    "# Tworzenie macierzy user-item\n",
    "user_item_matrix = np.zeros((n_users, n_items))\n",
    "\n",
    "for user_id, item_id, rating in raw_data.all_ratings():\n",
    "    user_item_matrix[int(user_id)][int(item_id)] = rating\n",
    "\n",
    "# Standaryzacja: binarna macierz 1/0 (obejrzane/nieobejrzane)\n",
    "user_item_matrix = (user_item_matrix > 0).astype(np.float32)\n"
   ]
  },
  {
   "cell_type": "markdown",
   "metadata": {},
   "source": [
    "Definicja struktury RBM"
   ]
  },
  {
   "cell_type": "code",
   "execution_count": 5,
   "metadata": {},
   "outputs": [],
   "source": [
    "class RBM:\n",
    "    def __init__(self, visible_units, hidden_units, learning_rate=0.1):\n",
    "        self.visible_units = visible_units\n",
    "        self.hidden_units = hidden_units\n",
    "        self.learning_rate = learning_rate\n",
    "\n",
    "        # Inicjalizacja wag i biasów\n",
    "        self.weights = np.random.normal(0, 0.01, size=(visible_units, hidden_units))\n",
    "        self.visible_bias = np.zeros(visible_units)\n",
    "        self.hidden_bias = np.zeros(hidden_units)\n",
    "\n",
    "    def sigmoid(self, x):\n",
    "        return 1 / (1 + np.exp(-x))\n",
    "    def sample_hidden(self, visible):\n",
    "        # Oblicz prawdopodobieństwo aktywacji ukrytej warstwy\n",
    "        hidden_activations = np.dot(visible, self.weights) + self.hidden_bias\n",
    "        hidden_probs = self.sigmoid(hidden_activations)\n",
    "        return hidden_probs, (hidden_probs > np.random.random(hidden_probs.shape)).astype(np.float32)\n",
    "\n",
    "    def sample_visible(self, hidden):\n",
    "        # Oblicz prawdopodobieństwo aktywacji widocznej warstwy\n",
    "        visible_activations = np.dot(hidden, self.weights.T) + self.visible_bias\n",
    "        visible_probs = self.sigmoid(visible_activations)\n",
    "        return visible_probs, (visible_probs > np.random.random(visible_probs.shape)).astype(np.float32)\n",
    "\n",
    "    def train(self, data, epochs=10, batch_size=10):\n",
    "        for epoch in range(epochs):\n",
    "            for i in range(0, data.shape[0], batch_size):\n",
    "                batch = data[i:i+batch_size]\n",
    "\n",
    "                # Forward pass\n",
    "                hidden_probs, hidden_states = self.sample_hidden(batch)\n",
    "\n",
    "                # Reconstruction\n",
    "                visible_probs, _ = self.sample_visible(hidden_states)\n",
    "                hidden_probs_reconstructed, _ = self.sample_hidden(visible_probs)\n",
    "\n",
    "                # Aktualizacja wag i biasów\n",
    "                self.weights += self.learning_rate * (\n",
    "                    np.dot(batch.T, hidden_probs) - np.dot(visible_probs.T, hidden_probs_reconstructed)\n",
    "                ) / batch_size\n",
    "                self.visible_bias += self.learning_rate * np.mean(batch - visible_probs, axis=0)\n",
    "                self.hidden_bias += self.learning_rate * np.mean(hidden_probs - hidden_probs_reconstructed, axis=0)\n",
    "\n",
    "            print(f\"Epoch {epoch + 1}/{epochs} completed\")\n"
   ]
  },
  {
   "cell_type": "markdown",
   "metadata": {},
   "source": [
    "Trenowanie modelu RBM"
   ]
  },
  {
   "cell_type": "code",
   "execution_count": 6,
   "metadata": {},
   "outputs": [
    {
     "name": "stdout",
     "output_type": "stream",
     "text": [
      "Epoch 1/10 completed\n",
      "Epoch 2/10 completed\n",
      "Epoch 3/10 completed\n",
      "Epoch 4/10 completed\n",
      "Epoch 5/10 completed\n",
      "Epoch 6/10 completed\n",
      "Epoch 7/10 completed\n",
      "Epoch 8/10 completed\n",
      "Epoch 9/10 completed\n",
      "Epoch 10/10 completed\n"
     ]
    }
   ],
   "source": [
    "# Parametry RBM\n",
    "visible_units = user_item_matrix.shape[1]  # Liczba filmów\n",
    "hidden_units = 128  # Liczba neuronów ukrytych (można dostosować)\n",
    "learning_rate = 0.1\n",
    "epochs = 10\n",
    "batch_size = 32\n",
    "\n",
    "# Inicjalizacja modelu RBM\n",
    "rbm = RBM(visible_units, hidden_units, learning_rate)\n",
    "\n",
    "# Trenowanie RBM\n",
    "rbm.train(user_item_matrix, epochs=epochs, batch_size=batch_size)\n"
   ]
  },
  {
   "cell_type": "markdown",
   "metadata": {},
   "source": [
    "Generowanie rekomendacji"
   ]
  },
  {
   "cell_type": "code",
   "execution_count": 7,
   "metadata": {},
   "outputs": [
    {
     "name": "stdout",
     "output_type": "stream",
     "text": [
      "Rekomendacje dla użytkownika 0: [[ 289   89   49 ... 1626 1545 1584]]\n"
     ]
    }
   ],
   "source": [
    "def recommend_movies(rbm, user_vector, top_n=10):\n",
    "    # Przewidzenie ocen dla użytkownika\n",
    "    hidden_probs, hidden_states = rbm.sample_hidden(user_vector)\n",
    "    visible_probs, _ = rbm.sample_visible(hidden_states)\n",
    "    \n",
    "    # Sortowanie według prawdopodobieństw\n",
    "    recommendations = np.argsort(-visible_probs)\n",
    "    \n",
    "    return recommendations[:top_n]\n",
    "\n",
    "# Przykład: Generowanie rekomendacji dla pierwszego użytkownika\n",
    "user_id = 0\n",
    "user_vector = user_item_matrix[user_id].reshape(1, -1)\n",
    "\n",
    "recommendations = recommend_movies(rbm, user_vector)\n",
    "print(f\"Rekomendacje dla użytkownika {user_id}: {recommendations}\")\n"
   ]
  },
  {
   "cell_type": "markdown",
   "metadata": {},
   "source": [
    "Ewaluacja modelu"
   ]
  },
  {
   "cell_type": "code",
   "execution_count": 8,
   "metadata": {},
   "outputs": [
    {
     "name": "stdout",
     "output_type": "stream",
     "text": [
      "RMSE modelu RBM: 0.19393752693677194\n"
     ]
    }
   ],
   "source": [
    "from sklearn.metrics import mean_squared_error\n",
    "\n",
    "def evaluate_rbm(rbm, test_data):\n",
    "    predictions = []\n",
    "    actuals = []\n",
    "    \n",
    "    for user_id in range(test_data.shape[0]):\n",
    "        user_vector = test_data[user_id].reshape(1, -1)\n",
    "        hidden_probs, hidden_states = rbm.sample_hidden(user_vector)\n",
    "        visible_probs, _ = rbm.sample_visible(hidden_states)\n",
    "        \n",
    "        predictions.append(visible_probs)\n",
    "        actuals.append(user_vector)\n",
    "    \n",
    "    # Obliczenie RMSE\n",
    "    predictions = np.vstack(predictions)\n",
    "    actuals = np.vstack(actuals)\n",
    "    mse = mean_squared_error(actuals, predictions)\n",
    "    rmse = np.sqrt(mse)\n",
    "    return rmse\n",
    "\n",
    "# Obliczenie RMSE dla zbioru testowego\n",
    "rmse = evaluate_rbm(rbm, user_item_matrix)\n",
    "print(f\"RMSE modelu RBM: {rmse}\")\n"
   ]
  },
  {
   "cell_type": "markdown",
   "metadata": {},
   "source": [
    "\n",
    "Przykład działania RBM na konkretnym użytkowniku"
   ]
  },
  {
   "cell_type": "code",
   "execution_count": 9,
   "metadata": {},
   "outputs": [
    {
     "name": "stdout",
     "output_type": "stream",
     "text": [
      "Użytkownik 0 obejrzał filmy: [   0   10   83   86   92  179  221  289  291  302  321  329  363  365\n",
      "  377  380  389  423  431  432  438  466  487  491  512  521  522  528\n",
      "  550  632  649  656  665  672  751  834  947 1006 1045]\n",
      "Rekomendacje dla użytkownika 0: [[ 289   49   77 ... 1521 1087 1584]]\n"
     ]
    }
   ],
   "source": [
    "# Funkcja, która pokazuje ocenione filmy i rekomendacje\n",
    "def show_user_recommendations(user_id, rbm, user_item_matrix, top_n=10):\n",
    "    user_vector = user_item_matrix[user_id].reshape(1, -1)\n",
    "    \n",
    "    # Filmy już ocenione przez użytkownika\n",
    "    watched = np.where(user_vector.flatten() > 0)[0]\n",
    "    \n",
    "    # Generowanie rekomendacji\n",
    "    recommendations = recommend_movies(rbm, user_vector, top_n=top_n)\n",
    "    \n",
    "    print(f\"Użytkownik {user_id} obejrzał filmy: {watched}\")\n",
    "    print(f\"Rekomendacje dla użytkownika {user_id}: {recommendations}\")\n",
    "\n",
    "# Przykład dla użytkownika o ID 0\n",
    "show_user_recommendations(0, rbm, user_item_matrix, top_n=5)\n"
   ]
  },
  {
   "cell_type": "code",
   "execution_count": 13,
   "metadata": {},
   "outputs": [
    {
     "name": "stdout",
     "output_type": "stream",
     "text": [
      "Epoch 1/10 completed\n",
      "Epoch 2/10 completed\n",
      "Epoch 3/10 completed\n",
      "Epoch 4/10 completed\n",
      "Epoch 5/10 completed\n",
      "Epoch 6/10 completed\n",
      "Epoch 7/10 completed\n",
      "Epoch 8/10 completed\n",
      "Epoch 9/10 completed\n",
      "Epoch 10/10 completed\n",
      "Użytkownik 0 obejrzał filmy:\n",
      " - Toy Story (1995)\n",
      " - Seven (Se7en) (1995)\n",
      " - Robert A. Heinlein's The Puppet Masters (1994)\n",
      " - Searching for Bobby Fischer (1993)\n",
      " - Welcome to the Dollhouse (1995)\n",
      " - Apocalypse Now (1979)\n",
      " - Star Trek: First Contact (1996)\n",
      " - Fierce Creatures (1997)\n",
      " - Rosewood (1997)\n",
      " - Ulee's Gold (1997)\n",
      " - Murder at 1600 (1997)\n",
      " - 187 (1997)\n",
      " - Ace Ventura: When Nature Calls (1995)\n",
      " - Dangerous Minds (1995)\n",
      " - Miracle on 34th Street (1994)\n",
      " - Muriel's Wedding (1994)\n",
      " - Fear of a Black Hat (1993)\n",
      " - Children of the Corn: The Gathering (1996)\n",
      " - Fantasia (1940)\n",
      " - Heathers (1989)\n",
      " - Amityville: A New Generation (1993)\n",
      " - Bronx Tale, A (1993)\n",
      " - Sunset Blvd. (1950)\n",
      " - East of Eden (1955)\n",
      " - Third Man, The (1949)\n",
      " - Down by Law (1986)\n",
      " - Cool Hand Luke (1967)\n",
      " - My Life as a Dog (Mitt liv som hund) (1985)\n",
      " - Lord of Illusions (1995)\n",
      " - Christmas Carol, A (1938)\n",
      " - Seventh Seal, The (Sjunde inseglet, Det) (1957)\n",
      " - Manchurian Candidate, The (1962)\n",
      " - Blood For Dracula (Andy Warhol's Dracula) (1974)\n",
      " - Cape Fear (1962)\n",
      " - Replacement Killers, The (1998)\n",
      " - Gay Divorcee, The (1934)\n",
      " - Booty Call (1997)\n",
      " - Waiting for Guffman (1996)\n",
      " - Malice (1993)\n",
      "\n",
      "Rekomendacje dla użytkownika:\n",
      "1. Free Willy (1993)\n",
      "2. So I Married an Axe Murderer (1993)\n",
      "3. Fierce Creatures (1997)\n",
      "4. East of Eden (1955)\n",
      "5. Touch of Evil (1958)\n"
     ]
    }
   ],
   "source": [
    "import numpy as np\n",
    "import pandas as pd\n",
    "\n",
    "# Wczytanie pliku z nazwami filmów\n",
    "column_names = ['movie_id', 'title', 'release_date', 'video_release_date', 'url'] + [f'genre_{i}' for i in range(19)]\n",
    "movies = pd.read_csv('../ml-100k/u.item', sep='|', header=None, encoding='latin-1', names=column_names, usecols=['movie_id', 'title'])\n",
    "\n",
    "# Klasa RBM\n",
    "class RBM:\n",
    "    def __init__(self, visible_units, hidden_units, learning_rate=0.1):\n",
    "        self.visible_units = visible_units\n",
    "        self.hidden_units = hidden_units\n",
    "        self.learning_rate = learning_rate\n",
    "        self.weights = np.random.normal(0, 0.01, size=(visible_units, hidden_units))\n",
    "        self.visible_bias = np.zeros(visible_units)\n",
    "        self.hidden_bias = np.zeros(hidden_units)\n",
    "\n",
    "    def sigmoid(self, x):\n",
    "        return 1 / (1 + np.exp(-x))\n",
    "\n",
    "    def sample_hidden(self, visible):\n",
    "        hidden_activations = np.dot(visible, self.weights) + self.hidden_bias\n",
    "        hidden_probs = self.sigmoid(hidden_activations)\n",
    "        return hidden_probs, (hidden_probs > np.random.random(hidden_probs.shape)).astype(np.float32)\n",
    "\n",
    "    def sample_visible(self, hidden):\n",
    "        visible_activations = np.dot(hidden, self.weights.T) + self.visible_bias\n",
    "        visible_probs = self.sigmoid(visible_activations)\n",
    "        return visible_probs, (visible_probs > np.random.random(visible_probs.shape)).astype(np.float32)\n",
    "\n",
    "    def train(self, data, epochs=10, batch_size=10):\n",
    "        for epoch in range(epochs):\n",
    "            for i in range(0, data.shape[0], batch_size):\n",
    "                batch = data[i:i + batch_size]\n",
    "                hidden_probs, hidden_states = self.sample_hidden(batch)\n",
    "                visible_probs, _ = self.sample_visible(hidden_states)\n",
    "                hidden_probs_reconstructed, _ = self.sample_hidden(visible_probs)\n",
    "                self.weights += self.learning_rate * (\n",
    "                    np.dot(batch.T, hidden_probs) - np.dot(visible_probs.T, hidden_probs_reconstructed)\n",
    "                ) / batch_size\n",
    "                self.visible_bias += self.learning_rate * np.mean(batch - visible_probs, axis=0)\n",
    "                self.hidden_bias += self.learning_rate * np.mean(hidden_probs - hidden_probs_reconstructed, axis=0)\n",
    "            print(f\"Epoch {epoch + 1}/{epochs} completed\")\n",
    "\n",
    "# Wczytanie danych MovieLens\n",
    "from surprise import Dataset\n",
    "\n",
    "data = Dataset.load_builtin('ml-100k')\n",
    "raw_data = data.build_full_trainset()\n",
    "n_users = raw_data.n_users\n",
    "n_items = raw_data.n_items\n",
    "\n",
    "# Tworzenie macierzy użytkownik-przedmiot\n",
    "user_item_matrix = np.zeros((n_users, n_items))\n",
    "for user_id, item_id, rating in raw_data.all_ratings():\n",
    "    user_item_matrix[int(user_id)][int(item_id)] = rating\n",
    "user_item_matrix = (user_item_matrix > 0).astype(np.float32)\n",
    "\n",
    "# Trenowanie RBM\n",
    "visible_units = user_item_matrix.shape[1]\n",
    "hidden_units = 128\n",
    "learning_rate = 0.1\n",
    "epochs = 10\n",
    "batch_size = 32\n",
    "\n",
    "rbm = RBM(visible_units, hidden_units, learning_rate)\n",
    "rbm.train(user_item_matrix, epochs=epochs, batch_size=batch_size)\n",
    "\n",
    "# Funkcja rekomendacji\n",
    "def recommend_movies(rbm, user_vector, top_n=5):\n",
    "    hidden_probs, hidden_states = rbm.sample_hidden(user_vector)\n",
    "    visible_probs, _ = rbm.sample_visible(hidden_states)\n",
    "    recommendations = np.argsort(-visible_probs.flatten())\n",
    "    return recommendations[:top_n]\n",
    "\n",
    "# Wyświetlanie rekomendacji dla użytkownika\n",
    "def show_user_recommendations_with_titles(user_id, rbm, user_item_matrix, movies, top_n=5):\n",
    "    user_vector = user_item_matrix[user_id].reshape(1, -1)\n",
    "    watched = np.where(user_vector.flatten() > 0)[0] + 1  # Dopasowanie indeksów\n",
    "    watched_titles = movies[movies['movie_id'].isin(watched)]['title'].tolist()\n",
    "    recommendations = recommend_movies(rbm, user_vector, top_n=top_n) + 1  # Dopasowanie indeksów\n",
    "    recommended_titles = movies[movies['movie_id'].isin(recommendations)]['title'].tolist()\n",
    "\n",
    "    print(f\"Użytkownik {user_id} obejrzał filmy:\")\n",
    "    for title in watched_titles:\n",
    "        print(f\" - {title}\")\n",
    "    print(\"\\nRekomendacje dla użytkownika:\")\n",
    "    for i, title in enumerate(recommended_titles, start=1):\n",
    "        print(f\"{i}. {title}\")\n",
    "\n",
    "# Przykład dla użytkownika o ID 0\n",
    "show_user_recommendations_with_titles(0, rbm, user_item_matrix, movies, top_n=5)\n"
   ]
  },
  {
   "cell_type": "markdown",
   "metadata": {},
   "source": []
  }
 ],
 "metadata": {
  "kernelspec": {
   "display_name": "Python 3",
   "language": "python",
   "name": "python3"
  },
  "language_info": {
   "codemirror_mode": {
    "name": "ipython",
    "version": 3
   },
   "file_extension": ".py",
   "mimetype": "text/x-python",
   "name": "python",
   "nbconvert_exporter": "python",
   "pygments_lexer": "ipython3",
   "version": "3.12.2"
  }
 },
 "nbformat": 4,
 "nbformat_minor": 2
}
