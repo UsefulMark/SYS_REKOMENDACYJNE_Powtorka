{
 "cells": [
  {
   "cell_type": "code",
   "execution_count": null,
   "id": "832d6a20",
   "metadata": {},
   "outputs": [],
   "source": [
    "import pandas as pd\n",
    "import numpy as np\n",
    "import copy\n",
    "\n",
    "ratings = pd.read_csv('u.data', sep='\\t', header=None)\n",
    "ratings"
   ]
  },
  {
   "cell_type": "code",
   "execution_count": null,
   "id": "d2353ff8",
   "metadata": {},
   "outputs": [],
   "source": [
    "R = ratings.pivot(index=0, columns=1, values=2).fillna(0).values\n",
    "R"
   ]
  },
  {
   "cell_type": "code",
   "execution_count": null,
   "id": "eebbff51",
   "metadata": {},
   "outputs": [],
   "source": [
    "A = np.array([[4,5,4,0], [3,2,0,4], [2,0,5,5]])\n",
    "A"
   ]
  },
  {
   "cell_type": "code",
   "execution_count": null,
   "id": "ef9d9189",
   "metadata": {},
   "outputs": [],
   "source": [
    "maska = A>0\n",
    "maska"
   ]
  },
  {
   "cell_type": "code",
   "execution_count": null,
   "id": "249e98b2",
   "metadata": {},
   "outputs": [],
   "source": [
    "no_user = A.shape[0]\n",
    "no_movies = A.shape[1]\n",
    "no_l = 2 \n",
    "\n",
    "eta = 0.01"
   ]
  },
  {
   "cell_type": "code",
   "execution_count": null,
   "id": "de9561f1",
   "metadata": {},
   "outputs": [],
   "source": [
    "Q = np.random.random((no_user, no_l))\n",
    "P = np.random.random((no_l, no_movies))\n",
    "P"
   ]
  },
  {
   "cell_type": "code",
   "execution_count": null,
   "id": "29111e20",
   "metadata": {},
   "outputs": [],
   "source": [
    "for i in range(Q.shape[0]):\n",
    "    for j in range(Q.shape[1]):\n",
    "        grad = 0\n",
    "        for idl, l in enumerate(A[i,:]):\n",
    "            if( l ):\n",
    "                grad += A[i,idl]-(Q[i,0]*P[0,idl]+Q[i,1]*P[1,idl])*P[j, idl]\n",
    "        Q[i,j] = Q[i,j] + eta*grad\n",
    "Q.shape[1]"
   ]
  },
  {
   "cell_type": "code",
   "execution_count": null,
   "id": "fc5e800b",
   "metadata": {},
   "outputs": [],
   "source": [
    "for j in range(P.shape[1]):\n",
    "    for i in range(P.shape[0]):\n",
    "        grad = 0\n",
    "        for idl, l in enumerate(A[:,j]):\n",
    "            if( l ):\n",
    "                grad += A[idl, j]-(Q[idl,0]*P[0,j]+Q[idl,1]*P[1,j])*Q[idl, i]\n",
    "        P[i,j] = P[i,j] + eta*grad\n",
    "P.shape"
   ]
  },
  {
   "cell_type": "code",
   "execution_count": null,
   "id": "0af31903",
   "metadata": {},
   "outputs": [],
   "source": [
    "pred = np.matmul(Q, P)\n",
    "MAE = np.abs(A - pred).mean()"
   ]
  },
  {
   "cell_type": "code",
   "execution_count": null,
   "id": "05ce44af",
   "metadata": {},
   "outputs": [],
   "source": [
    "def train(Q, P, A, eta=0.01, epok=10):\n",
    "    for e in range(epok):\n",
    "        Q1 = np.zeros(Q.shape)\n",
    "        for i in range(Q.shape[0]):\n",
    "            for j in range(Q.shape[1]):\n",
    "                grad = 0                \n",
    "                for idl, l in enumerate(A[i,:]):\n",
    "                    if( l ):\n",
    "                        \n",
    "                        grad += (A[i,idl]-np.dot(Q[i,:], P[:,idl]))*P[j, idl]\n",
    "                grad /= sum(A[i,:]>0)\n",
    "                Q1[i,j] = Q[i,j] + eta*grad\n",
    "\n",
    "        P1 = np.zeros(P.shape)\n",
    "        for j in range(P.shape[1]):\n",
    "            for i in range(P.shape[0]):\n",
    "                grad = 0\n",
    "                for idl, l in enumerate(A[:,j]):\n",
    "                    if( l ):\n",
    "                        grad += (A[idl, j]-np.dot(Q[idl,:], P[:,j]))*Q[idl, i]\n",
    "                grad /= sum(A[:,j]>0)\n",
    "                P1[i,j] = P[i,j] + eta*grad\n",
    "\n",
    "        Q = copy.deepcopy(Q1)\n",
    "        P = copy.deepcopy(P1)\n",
    "        pred = np.matmul(Q, P)\n",
    "        MAE = np.abs(A - pred).mean()\n",
    "        print(f'Epoka: {e} \\t MAE: {MAE}')\n",
    "    return Q, P"
   ]
  },
  {
   "cell_type": "code",
   "execution_count": null,
   "id": "26ead8b5",
   "metadata": {},
   "outputs": [],
   "source": [
    "pred = np.matmul(Q, P)\n",
    "pred"
   ]
  },
  {
   "cell_type": "code",
   "execution_count": null,
   "id": "4ecd0aba",
   "metadata": {},
   "outputs": [],
   "source": [
    "no_user = R.shape[0]\n",
    "no_movies = R.shape[1]\n",
    "no_l = 100 \n",
    "Q = np.random.random((no_user, no_l))\n",
    "P = np.random.random((no_l, no_movies))\n",
    "\n",
    "Q, P = train(Q, P, R, 0.01, 4)\n"
   ]
  },
  {
   "cell_type": "code",
   "execution_count": null,
   "id": "b3c554d2",
   "metadata": {},
   "outputs": [],
   "source": [
    "Q, P = train(Q, P, R, 0.01, 100)\n",
    "pred = np.matmul(Q, P)\n",
    "pred"
   ]
  },
  {
   "cell_type": "code",
   "execution_count": null,
   "id": "5cec5732",
   "metadata": {},
   "outputs": [],
   "source": [
    "maska = R>0\n",
    "pred = np.matmul(Q, P)\n",
    "MAE = np.abs(R - np.multiply(pred, maska)).sum() / maska.sum()\n",
    "MAE"
   ]
  }
 ],
 "metadata": {
  "kernelspec": {
   "display_name": "Python 3 (ipykernel)",
   "language": "python",
   "name": "python3"
  },
  "language_info": {
   "codemirror_mode": {
    "name": "ipython",
    "version": 3
   },
   "file_extension": ".py",
   "mimetype": "text/x-python",
   "name": "python",
   "nbconvert_exporter": "python",
   "pygments_lexer": "ipython3",
   "version": "3.8.10"
  }
 },
 "nbformat": 4,
 "nbformat_minor": 5
}
